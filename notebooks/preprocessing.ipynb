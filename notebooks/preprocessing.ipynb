{
 "cells": [
  {
   "cell_type": "code",
   "execution_count": 1,
   "id": "ec8776d0-90f2-42fb-af42-24811d6487ec",
   "metadata": {},
   "outputs": [],
   "source": [
    "import os\n",
    "import numpy as np\n",
    "import tensorflow as tf\n",
    "from tensorflow.keras.preprocessing.image import ImageDataGenerator\n",
    "from tensorflow.keras.applications import MobileNetV2\n",
    "from tensorflow.keras.layers import Dense, Flatten, Dropout, GlobalAveragePooling2D, Input\n",
    "from tensorflow.keras.models import Model\n",
    "from sklearn.metrics import classification_report, accuracy_score\n",
    "from tensorflow.keras.regularizers import l2"
   ]
  },
  {
   "cell_type": "code",
   "execution_count": 5,
   "id": "fb0f0dc7-b0f8-44e2-bae3-7291b8d9bbe2",
   "metadata": {},
   "outputs": [
    {
     "name": "stdout",
     "output_type": "stream",
     "text": [
      "Found 3376 images belonging to 4 classes.\n",
      "Found 841 images belonging to 4 classes.\n",
      "Found 5712 images belonging to 4 classes.\n",
      "Found 1311 images belonging to 4 classes.\n"
     ]
    }
   ],
   "source": [
    "from sklearn.model_selection import train_test_split\n",
    "import numpy as np\n",
    "\n",
    "def load_data(dataset_dir, img_size=(224, 224), batch_size=16, test_split=0.5):\n",
    "    train_datagen = ImageDataGenerator(\n",
    "        rescale=1./255,\n",
    "        rotation_range=30, width_shift_range=0.2, height_shift_range=0.2,\n",
    "        shear_range=0.2, zoom_range=0.3, brightness_range=[0.8, 1.2],\n",
    "        horizontal_flip=True, fill_mode='nearest', validation_split=0.2\n",
    "    )\n",
    "\n",
    "    val_test_datagen = ImageDataGenerator(rescale=1./255)  \n",
    "\n",
    "    class_order = ['normal', 'cataract', 'diabetic_retinopathy', 'glaucoma']  # Ensure all classes exist\n",
    "\n",
    "    # Load training data (80%)\n",
    "    train_data = train_datagen.flow_from_directory(\n",
    "        dataset_dir, target_size=img_size, batch_size=batch_size,\n",
    "        class_mode='categorical', subset='training', classes=class_order)\n",
    "\n",
    "    # Load validation + test data (20%)\n",
    "    val_test_data = train_datagen.flow_from_directory(\n",
    "        dataset_dir, target_size=img_size, batch_size=batch_size,\n",
    "        class_mode='categorical', subset='validation', shuffle=False, classes=class_order)\n",
    "\n",
    "    # Extract all images and labels from validation+test dataset\n",
    "    val_test_images = []\n",
    "    val_test_labels = []\n",
    "\n",
    "    for _ in range(len(val_test_data)):  # Go through all batches\n",
    "        batch_images, batch_labels = next(val_test_data)  # ✅ Correct: Use next(iterator)\n",
    "        val_test_images.append(batch_images)\n",
    "        val_test_labels.append(batch_labels)\n",
    "\n",
    "    val_test_images = np.concatenate(val_test_images, axis=0)\n",
    "    val_test_labels = np.concatenate(val_test_labels, axis=0)\n",
    "\n",
    "    # Convert one-hot labels to categorical class indices\n",
    "    val_test_labels_indices = np.argmax(val_test_labels, axis=1)\n",
    "\n",
    "    # Split into validation & test (stratified by class index)\n",
    "    val_images, test_images, val_labels_indices, test_labels_indices = train_test_split(\n",
    "        val_test_images, val_test_labels_indices, test_size=test_split, stratify=val_test_labels_indices, random_state=42\n",
    "    )\n",
    "\n",
    "    # Convert labels back to one-hot encoding\n",
    "    num_classes = len(class_order)\n",
    "    val_labels = np.eye(num_classes)[val_labels_indices]\n",
    "    test_labels = np.eye(num_classes)[test_labels_indices]\n",
    "\n",
    "    return train_data, (val_images, val_labels), (test_images, test_labels)\n",
    "\n",
    "# Load data\n",
    "retinal_train, (retinal_val_images, retinal_val_labels), (retinal_test_images, retinal_test_labels) = load_data(\"/Users/blessygrace/DS-Projects/data/raw/seg_dataset\")\n",
    "\n",
    "def load_brain_data(train_dir, test_dir, img_size=(224, 224), batch_size=16):\n",
    "    \n",
    "    train_datagen = ImageDataGenerator(\n",
    "    rescale=1./255,\n",
    "    rotation_range=30,\n",
    "    width_shift_range=0.2,\n",
    "    height_shift_range=0.2,\n",
    "    shear_range=0.2,\n",
    "    zoom_range=0.3,\n",
    "    brightness_range=[0.8, 1.2],\n",
    "    horizontal_flip=True,\n",
    "    fill_mode='nearest',\n",
    "    validation_split=0.2  # Keep validation split\n",
    ")\n",
    "    test_datagen = ImageDataGenerator(rescale=1./255)\n",
    "    \n",
    "    class_order = ['notumor', 'glioma', 'meningioma', 'pituitary']  # Explicit class order\n",
    "    \n",
    "    train_data = train_datagen.flow_from_directory(train_dir, target_size=img_size, batch_size=batch_size,\n",
    "                                             class_mode='categorical', classes=class_order)\n",
    "    test_data = test_datagen.flow_from_directory(test_dir, target_size=img_size, batch_size=batch_size,\n",
    "                                            class_mode='categorical', shuffle=False, classes=class_order)\n",
    "    return train_data, test_data\n",
    "\n",
    "brain_train, brain_test = load_brain_data(\"/Users/blessygrace/DS-Projects/data/raw/brainmri/Training\", \"/Users/blessygrace/DS-Projects/data/raw/brainmri/Testing\")\n"
   ]
  },
  {
   "cell_type": "code",
   "execution_count": 7,
   "id": "d90618a3-f6c0-4418-83f9-b2fffbe20bee",
   "metadata": {},
   "outputs": [
    {
     "name": "stdout",
     "output_type": "stream",
     "text": [
      "Training set class distribution: Counter({2: 879, 0: 860, 1: 831, 3: 806})\n",
      "Validation set class distribution: Counter({2: 109, 0: 107, 1: 103, 3: 101})\n",
      "Test set class distribution: Counter({2: 110, 0: 107, 1: 104, 3: 100})\n",
      "Training set class distribution: Counter({0: 1595, 3: 1457, 2: 1339, 1: 1321})\n",
      "Test set class distribution: Counter({0: 405, 2: 306, 1: 300, 3: 300})\n"
     ]
    }
   ],
   "source": [
    "from collections import Counter\n",
    "\n",
    "# Training set distribution\n",
    "train_counts = Counter(retinal_train.classes)\n",
    "\n",
    "# Validation & Test set distribution\n",
    "val_counts = Counter(np.argmax(retinal_val_labels, axis=1))\n",
    "test_counts = Counter(np.argmax(retinal_test_labels, axis=1))\n",
    "\n",
    "print(\"Training set class distribution:\", train_counts)\n",
    "print(\"Validation set class distribution:\", val_counts)\n",
    "print(\"Test set class distribution:\", test_counts)\n",
    "\n",
    "\n",
    "# Check distribution in training, validation, and test labels\n",
    "train_counts = Counter(brain_train.classes)\n",
    "test_counts = Counter(brain_test.classes)\n",
    "\n",
    "print(\"Training set class distribution:\", train_counts)\n",
    "print(\"Test set class distribution:\", test_counts)"
   ]
  },
  {
   "cell_type": "code",
   "execution_count": 9,
   "id": "b9a17a62-8b14-47d4-a3a5-0446b9c956a2",
   "metadata": {},
   "outputs": [
    {
     "name": "stdout",
     "output_type": "stream",
     "text": [
      "Class Indices: {'normal': 0, 'cataract': 1, 'diabetic_retinopathy': 2, 'glaucoma': 3}\n",
      "Class Indices: {'notumor': 0, 'glioma': 1, 'meningioma': 2, 'pituitary': 3}\n"
     ]
    }
   ],
   "source": [
    "print(\"Class Indices:\", retinal_train.class_indices)\n",
    "print(\"Class Indices:\", brain_train.class_indices)"
   ]
  },
  {
   "cell_type": "code",
   "execution_count": null,
   "id": "a11e4735-26f0-471d-b6c6-7ce420379928",
   "metadata": {},
   "outputs": [],
   "source": []
  }
 ],
 "metadata": {
  "kernelspec": {
   "display_name": "Python 3 (ipykernel)",
   "language": "python",
   "name": "python3"
  },
  "language_info": {
   "codemirror_mode": {
    "name": "ipython",
    "version": 3
   },
   "file_extension": ".py",
   "mimetype": "text/x-python",
   "name": "python",
   "nbconvert_exporter": "python",
   "pygments_lexer": "ipython3",
   "version": "3.12.4"
  }
 },
 "nbformat": 4,
 "nbformat_minor": 5
}
