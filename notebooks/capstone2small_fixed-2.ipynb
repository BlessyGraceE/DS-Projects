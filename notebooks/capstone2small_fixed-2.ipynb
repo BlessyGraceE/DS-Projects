{
 "cells": [
  {
   "cell_type": "code",
   "execution_count": 1,
   "id": "a8747b3e-e060-4d66-9831-c24653dae8e9",
   "metadata": {},
   "outputs": [],
   "source": [
    "import os\n",
    "import numpy as np\n",
    "import tensorflow as tf\n",
    "from tensorflow.keras.preprocessing.image import ImageDataGenerator\n",
    "from tensorflow.keras.applications import MobileNetV2\n",
    "from tensorflow.keras.layers import Dense, Flatten, Dropout, GlobalAveragePooling2D, Input\n",
    "from tensorflow.keras.models import Model\n",
    "from sklearn.metrics import classification_report, accuracy_score\n",
    "from tensorflow.keras.regularizers import l2"
   ]
  },
  {
   "cell_type": "code",
   "execution_count": 3,
   "id": "c0a193ad-3b06-437d-b03f-b58e1c1a3d5c",
   "metadata": {},
   "outputs": [],
   "source": [
    "import warnings\n",
    "warnings.filterwarnings(\"ignore\")  # Suppress warnings"
   ]
  },
  {
   "cell_type": "code",
   "execution_count": 23,
   "id": "164d35d0-0bdc-49ff-a9b3-472492ebde66",
   "metadata": {},
   "outputs": [
    {
     "name": "stdout",
     "output_type": "stream",
     "text": [
      "Found 3376 images belonging to 4 classes.\n",
      "Found 841 images belonging to 4 classes.\n",
      "Found 5712 images belonging to 4 classes.\n",
      "Found 1311 images belonging to 4 classes.\n"
     ]
    }
   ],
   "source": [
    "#step 2 data preprocessing\n",
    "\n",
    "from sklearn.model_selection import train_test_split\n",
    "import numpy as np\n",
    "\n",
    "def load_data(dataset_dir, img_size=(224, 224), batch_size=16, test_split=0.5):\n",
    "    train_datagen = ImageDataGenerator(\n",
    "        rescale=1./255,\n",
    "        rotation_range=30, width_shift_range=0.2, height_shift_range=0.2,\n",
    "        shear_range=0.2, zoom_range=0.3, brightness_range=[0.8, 1.2],\n",
    "        horizontal_flip=True, fill_mode='nearest', validation_split=0.2\n",
    "    )\n",
    "\n",
    "    val_test_datagen = ImageDataGenerator(rescale=1./255)  \n",
    "\n",
    "    class_order = ['normal', 'cataract', 'diabetic_retinopathy', 'glaucoma']  # Ensure all classes exist\n",
    "\n",
    "    # Load training data (80%)\n",
    "    train_data = train_datagen.flow_from_directory(\n",
    "        dataset_dir, target_size=img_size, batch_size=batch_size,\n",
    "        class_mode='categorical', subset='training', classes=class_order)\n",
    "\n",
    "    # Load validation + test data (20%)\n",
    "    val_test_data = train_datagen.flow_from_directory(\n",
    "        dataset_dir, target_size=img_size, batch_size=batch_size,\n",
    "        class_mode='categorical', subset='validation', shuffle=False, classes=class_order)\n",
    "\n",
    "    # Extract all images and labels from validation+test dataset\n",
    "    val_test_images = []\n",
    "    val_test_labels = []\n",
    "\n",
    "    for _ in range(len(val_test_data)):  # Go through all batches\n",
    "        batch_images, batch_labels = next(val_test_data)  # ✅ Correct: Use next(iterator)\n",
    "        val_test_images.append(batch_images)\n",
    "        val_test_labels.append(batch_labels)\n",
    "\n",
    "    val_test_images = np.concatenate(val_test_images, axis=0)\n",
    "    val_test_labels = np.concatenate(val_test_labels, axis=0)\n",
    "\n",
    "    # Convert one-hot labels to categorical class indices\n",
    "    val_test_labels_indices = np.argmax(val_test_labels, axis=1)\n",
    "\n",
    "    # Split into validation & test (stratified by class index)\n",
    "    val_images, test_images, val_labels_indices, test_labels_indices = train_test_split(\n",
    "        val_test_images, val_test_labels_indices, test_size=test_split, stratify=val_test_labels_indices, random_state=42\n",
    "    )\n",
    "\n",
    "    # Convert labels back to one-hot encoding\n",
    "    num_classes = len(class_order)\n",
    "    val_labels = np.eye(num_classes)[val_labels_indices]\n",
    "    test_labels = np.eye(num_classes)[test_labels_indices]\n",
    "\n",
    "    return train_data, (val_images, val_labels), (test_images, test_labels)\n",
    "\n",
    "# Load data\n",
    "retinal_train, (retinal_val_images, retinal_val_labels), (retinal_test_images, retinal_test_labels) = load_data(\"/Users/blessygrace/Desktop/Capstone 2/seg_dataset\")\n",
    "\n",
    "def load_brain_data(train_dir, test_dir, img_size=(224, 224), batch_size=16):\n",
    "    \n",
    "    train_datagen = ImageDataGenerator(\n",
    "    rescale=1./255,\n",
    "    rotation_range=30,\n",
    "    width_shift_range=0.2,\n",
    "    height_shift_range=0.2,\n",
    "    shear_range=0.2,\n",
    "    zoom_range=0.3,\n",
    "    brightness_range=[0.8, 1.2],\n",
    "    horizontal_flip=True,\n",
    "    fill_mode='nearest',\n",
    "    validation_split=0.2  # Keep validation split\n",
    ")\n",
    "    test_datagen = ImageDataGenerator(rescale=1./255)\n",
    "    \n",
    "    class_order = ['notumor', 'glioma', 'meningioma', 'pituitary']  # Explicit class order\n",
    "    \n",
    "    train_data = train_datagen.flow_from_directory(train_dir, target_size=img_size, batch_size=batch_size,\n",
    "                                             class_mode='categorical', classes=class_order)\n",
    "    test_data = test_datagen.flow_from_directory(test_dir, target_size=img_size, batch_size=batch_size,\n",
    "                                            class_mode='categorical', shuffle=False, classes=class_order)\n",
    "    return train_data, test_data\n",
    "\n",
    "brain_train, brain_test = load_brain_data(\"/Users/blessygrace/Desktop/Capstone 2/brainmri/Training\", \"/Users/blessygrace/Desktop/Capstone 2/brainmri/Testing\")\n"
   ]
  },
  {
   "cell_type": "code",
   "execution_count": 7,
   "id": "8bc8026c-2cdb-4809-a469-0f584fb8afe8",
   "metadata": {},
   "outputs": [
    {
     "name": "stdout",
     "output_type": "stream",
     "text": [
      "Training set class distribution: Counter({2: 879, 0: 860, 1: 831, 3: 806})\n",
      "Validation set class distribution: Counter({2: 109, 0: 107, 1: 103, 3: 101})\n",
      "Test set class distribution: Counter({2: 110, 0: 107, 1: 104, 3: 100})\n",
      "Training set class distribution: Counter({0: 1595, 3: 1457, 2: 1339, 1: 1321})\n",
      "Test set class distribution: Counter({0: 405, 2: 306, 1: 300, 3: 300})\n"
     ]
    }
   ],
   "source": [
    "from collections import Counter\n",
    "\n",
    "# Training set distribution\n",
    "train_counts = Counter(retinal_train.classes)\n",
    "\n",
    "# Validation & Test set distribution\n",
    "val_counts = Counter(np.argmax(retinal_val_labels, axis=1))\n",
    "test_counts = Counter(np.argmax(retinal_test_labels, axis=1))\n",
    "\n",
    "print(\"Training set class distribution:\", train_counts)\n",
    "print(\"Validation set class distribution:\", val_counts)\n",
    "print(\"Test set class distribution:\", test_counts)\n",
    "\n",
    "\n",
    "# Check distribution in training, validation, and test labels\n",
    "train_counts = Counter(brain_train.classes)\n",
    "test_counts = Counter(brain_test.classes)\n",
    "\n",
    "print(\"Training set class distribution:\", train_counts)\n",
    "print(\"Test set class distribution:\", test_counts)"
   ]
  },
  {
   "cell_type": "code",
   "execution_count": 9,
   "id": "a316d390-5676-4d89-9603-4bb1e608412c",
   "metadata": {},
   "outputs": [
    {
     "name": "stdout",
     "output_type": "stream",
     "text": [
      "Class Indices: {'normal': 0, 'cataract': 1, 'diabetic_retinopathy': 2, 'glaucoma': 3}\n",
      "Class Indices: {'notumor': 0, 'glioma': 1, 'meningioma': 2, 'pituitary': 3}\n"
     ]
    }
   ],
   "source": [
    "print(\"Class Indices:\", retinal_train.class_indices)\n",
    "print(\"Class Indices:\", brain_train.class_indices)"
   ]
  },
  {
   "cell_type": "code",
   "execution_count": 11,
   "id": "a6b1cf71-ecdf-4676-a38b-0607782f194f",
   "metadata": {},
   "outputs": [],
   "source": [
    "# Step 3.1: Retinal Disease Classification Model\n",
    "\n",
    "def build_retinal_model(input_shape=(224, 224, 3), num_classes=4):\n",
    "    base_model = MobileNetV2(input_shape=(224, 224, 3), include_top=False, weights='imagenet')\n",
    "    x = GlobalAveragePooling2D()(base_model.output)\n",
    "    x = Dense(512, activation='relu', kernel_regularizer=l2(0.01))(x)  # L2 Regularization\n",
    "    x = Dropout(0.4)(x)  # Increased Dropout\n",
    "    x = Dense(256, activation='relu', kernel_regularizer=l2(0.01))(x)\n",
    "    x = Dropout(0.3)(x)\n",
    "    outputs = Dense(num_classes, activation='softmax')(x)\n",
    "    model = Model(inputs=base_model.input, outputs=outputs)\n",
    "    for layer in base_model.layers[:-20]:  # Freeze all but last 20 layers\n",
    "        layer.trainable = False\n",
    "    model.compile(optimizer='adam', loss='categorical_crossentropy', metrics=['accuracy'])\n",
    "    return model\n",
    "\n",
    "retinal_model = build_retinal_model()\n"
   ]
  },
  {
   "cell_type": "code",
   "execution_count": 13,
   "id": "12c6a204-62b8-4d51-9157-a84caa18e147",
   "metadata": {},
   "outputs": [],
   "source": [
    "# Step 3.2: Brain Tumor Classification Model\n",
    "\n",
    "def build_brain_model(input_shape=(224, 224, 3), num_classes=4):\n",
    "    base_model = MobileNetV2(input_shape=(224, 224, 3), include_top=False, weights='imagenet')\n",
    "    x = GlobalAveragePooling2D()(base_model.output)\n",
    "    x = Dense(512, activation='relu', kernel_regularizer=l2(0.01))(x)  # L2 Regularization\n",
    "    x = Dropout(0.4)(x)  # Increased Dropout\n",
    "    x = Dense(256, activation='relu', kernel_regularizer=l2(0.01))(x)\n",
    "    x = Dropout(0.3)(x)\n",
    "    outputs = Dense(num_classes, activation='softmax')(x)\n",
    "    model = Model(inputs=base_model.input, outputs=outputs)\n",
    "    for layer in base_model.layers[:-20]:  # Freeze all but last 20 layers\n",
    "        layer.trainable = False\n",
    "    model.compile(optimizer='adam', loss='categorical_crossentropy', metrics=['accuracy'])\n",
    "    return model\n",
    "\n",
    "brain_model = build_brain_model()"
   ]
  },
  {
   "cell_type": "code",
   "execution_count": 25,
   "id": "4064acb9-2cab-44e5-98d5-7f6c8a3a9bf1",
   "metadata": {},
   "outputs": [
    {
     "name": "stdout",
     "output_type": "stream",
     "text": [
      "Epoch 1/10\n",
      "\u001b[1m211/211\u001b[0m \u001b[32m━━━━━━━━━━━━━━━━━━━━\u001b[0m\u001b[37m\u001b[0m \u001b[1m39s\u001b[0m 183ms/step - accuracy: 0.8435 - loss: 0.5070 - val_accuracy: 0.6214 - val_loss: 1.4685\n",
      "Epoch 2/10\n",
      "\u001b[1m211/211\u001b[0m \u001b[32m━━━━━━━━━━━━━━━━━━━━\u001b[0m\u001b[37m\u001b[0m \u001b[1m39s\u001b[0m 184ms/step - accuracy: 0.8464 - loss: 0.5116 - val_accuracy: 0.6476 - val_loss: 1.0829\n",
      "Epoch 3/10\n",
      "\u001b[1m211/211\u001b[0m \u001b[32m━━━━━━━━━━━━━━━━━━━━\u001b[0m\u001b[37m\u001b[0m \u001b[1m39s\u001b[0m 183ms/step - accuracy: 0.8539 - loss: 0.4959 - val_accuracy: 0.5214 - val_loss: 1.6049\n",
      "Epoch 4/10\n",
      "\u001b[1m211/211\u001b[0m \u001b[32m━━━━━━━━━━━━━━━━━━━━\u001b[0m\u001b[37m\u001b[0m \u001b[1m39s\u001b[0m 186ms/step - accuracy: 0.8605 - loss: 0.4625 - val_accuracy: 0.6095 - val_loss: 1.2590\n",
      "Epoch 5/10\n",
      "\u001b[1m211/211\u001b[0m \u001b[32m━━━━━━━━━━━━━━━━━━━━\u001b[0m\u001b[37m\u001b[0m \u001b[1m40s\u001b[0m 188ms/step - accuracy: 0.8650 - loss: 0.4717 - val_accuracy: 0.6167 - val_loss: 1.5925\n",
      "Epoch 6/10\n",
      "\u001b[1m211/211\u001b[0m \u001b[32m━━━━━━━━━━━━━━━━━━━━\u001b[0m\u001b[37m\u001b[0m \u001b[1m40s\u001b[0m 190ms/step - accuracy: 0.8584 - loss: 0.4697 - val_accuracy: 0.6952 - val_loss: 1.0855\n",
      "Epoch 7/10\n",
      "\u001b[1m211/211\u001b[0m \u001b[32m━━━━━━━━━━━━━━━━━━━━\u001b[0m\u001b[37m\u001b[0m \u001b[1m40s\u001b[0m 191ms/step - accuracy: 0.8704 - loss: 0.4526 - val_accuracy: 0.6357 - val_loss: 1.2283\n",
      "Epoch 8/10\n",
      "\u001b[1m211/211\u001b[0m \u001b[32m━━━━━━━━━━━━━━━━━━━━\u001b[0m\u001b[37m\u001b[0m \u001b[1m41s\u001b[0m 194ms/step - accuracy: 0.8585 - loss: 0.4507 - val_accuracy: 0.5833 - val_loss: 1.5294\n",
      "Epoch 9/10\n",
      "\u001b[1m211/211\u001b[0m \u001b[32m━━━━━━━━━━━━━━━━━━━━\u001b[0m\u001b[37m\u001b[0m \u001b[1m41s\u001b[0m 191ms/step - accuracy: 0.8539 - loss: 0.4595 - val_accuracy: 0.6238 - val_loss: 1.3595\n",
      "Epoch 10/10\n",
      "\u001b[1m211/211\u001b[0m \u001b[32m━━━━━━━━━━━━━━━━━━━━\u001b[0m\u001b[37m\u001b[0m \u001b[1m41s\u001b[0m 193ms/step - accuracy: 0.8777 - loss: 0.4116 - val_accuracy: 0.6500 - val_loss: 1.4117\n",
      "Epoch 1/10\n",
      "\u001b[1m357/357\u001b[0m \u001b[32m━━━━━━━━━━━━━━━━━━━━\u001b[0m\u001b[37m\u001b[0m \u001b[1m54s\u001b[0m 152ms/step - accuracy: 0.9191 - loss: 0.3049\n",
      "Epoch 2/10\n",
      "\u001b[1m357/357\u001b[0m \u001b[32m━━━━━━━━━━━━━━━━━━━━\u001b[0m\u001b[37m\u001b[0m \u001b[1m54s\u001b[0m 152ms/step - accuracy: 0.9180 - loss: 0.3011\n",
      "Epoch 3/10\n",
      "\u001b[1m357/357\u001b[0m \u001b[32m━━━━━━━━━━━━━━━━━━━━\u001b[0m\u001b[37m\u001b[0m \u001b[1m54s\u001b[0m 152ms/step - accuracy: 0.9339 - loss: 0.2801\n",
      "Epoch 4/10\n",
      "\u001b[1m357/357\u001b[0m \u001b[32m━━━━━━━━━━━━━━━━━━━━\u001b[0m\u001b[37m\u001b[0m \u001b[1m55s\u001b[0m 155ms/step - accuracy: 0.9299 - loss: 0.2777\n",
      "Epoch 5/10\n",
      "\u001b[1m357/357\u001b[0m \u001b[32m━━━━━━━━━━━━━━━━━━━━\u001b[0m\u001b[37m\u001b[0m \u001b[1m265s\u001b[0m 744ms/step - accuracy: 0.9387 - loss: 0.2568\n",
      "Epoch 6/10\n",
      "\u001b[1m357/357\u001b[0m \u001b[32m━━━━━━━━━━━━━━━━━━━━\u001b[0m\u001b[37m\u001b[0m \u001b[1m53s\u001b[0m 148ms/step - accuracy: 0.9411 - loss: 0.2492\n",
      "Epoch 7/10\n",
      "\u001b[1m357/357\u001b[0m \u001b[32m━━━━━━━━━━━━━━━━━━━━\u001b[0m\u001b[37m\u001b[0m \u001b[1m54s\u001b[0m 150ms/step - accuracy: 0.9534 - loss: 0.2068\n",
      "Epoch 8/10\n",
      "\u001b[1m357/357\u001b[0m \u001b[32m━━━━━━━━━━━━━━━━━━━━\u001b[0m\u001b[37m\u001b[0m \u001b[1m55s\u001b[0m 155ms/step - accuracy: 0.9493 - loss: 0.2212\n",
      "Epoch 9/10\n",
      "\u001b[1m357/357\u001b[0m \u001b[32m━━━━━━━━━━━━━━━━━━━━\u001b[0m\u001b[37m\u001b[0m \u001b[1m54s\u001b[0m 152ms/step - accuracy: 0.9508 - loss: 0.1959\n",
      "Epoch 10/10\n",
      "\u001b[1m357/357\u001b[0m \u001b[32m━━━━━━━━━━━━━━━━━━━━\u001b[0m\u001b[37m\u001b[0m \u001b[1m55s\u001b[0m 153ms/step - accuracy: 0.9489 - loss: 0.2315\n"
     ]
    }
   ],
   "source": [
    "# Step 4: Model Training & Evaluation\n",
    "\n",
    "def train_and_evaluate(model, train_data, val_data, epochs=5):\n",
    "    history = model.fit(train_data, validation_data=val_data, epochs=epochs) if val_data else model.fit(train_data, epochs=epochs)\n",
    "    return history\n",
    "\n",
    "retinal_history = train_and_evaluate(retinal_model, retinal_train, (retinal_val_images, retinal_val_labels), epochs=10)\n",
    "brain_history = train_and_evaluate(brain_model, brain_train, None, epochs=10)"
   ]
  },
  {
   "cell_type": "code",
   "execution_count": 27,
   "id": "7d67fa7a-dd00-4a55-b1f6-84488ce20b1e",
   "metadata": {},
   "outputs": [
    {
     "name": "stdout",
     "output_type": "stream",
     "text": [
      "\u001b[1m14/14\u001b[0m \u001b[32m━━━━━━━━━━━━━━━━━━━━\u001b[0m\u001b[37m\u001b[0m \u001b[1m3s\u001b[0m 181ms/step - accuracy: 0.6867 - loss: 1.2264\n",
      "Retinal Model - Loss: 1.265103816986084, Accuracy: 0.6555819511413574\n",
      "\u001b[1m14/14\u001b[0m \u001b[32m━━━━━━━━━━━━━━━━━━━━\u001b[0m\u001b[37m\u001b[0m \u001b[1m3s\u001b[0m 177ms/step\n",
      "Retinal Disease Classification Report:\n",
      "              precision    recall  f1-score   support\n",
      "\n",
      "           0       0.50      0.78      0.61       107\n",
      "           1       0.82      0.90      0.86       104\n",
      "           2       1.00      0.50      0.67       110\n",
      "           3       0.52      0.44      0.48       100\n",
      "\n",
      "    accuracy                           0.66       421\n",
      "   macro avg       0.71      0.65      0.65       421\n",
      "weighted avg       0.71      0.66      0.65       421\n",
      "\n",
      "\u001b[1m82/82\u001b[0m \u001b[32m━━━━━━━━━━━━━━━━━━━━\u001b[0m\u001b[37m\u001b[0m \u001b[1m8s\u001b[0m 97ms/step - accuracy: 0.9715 - loss: 0.1616\n",
      "Brain Model - Loss: 0.2780300974845886, Accuracy: 0.9412662386894226\n",
      "\u001b[1m82/82\u001b[0m \u001b[32m━━━━━━━━━━━━━━━━━━━━\u001b[0m\u001b[37m\u001b[0m \u001b[1m8s\u001b[0m 98ms/step\n",
      "Brain Tumor Classification Report:\n",
      "              precision    recall  f1-score   support\n",
      "\n",
      "           0       0.98      1.00      0.99       405\n",
      "           1       0.91      0.96      0.93       300\n",
      "           2       0.98      0.81      0.88       306\n",
      "           3       0.90      0.98      0.94       300\n",
      "\n",
      "    accuracy                           0.94      1311\n",
      "   macro avg       0.94      0.94      0.94      1311\n",
      "weighted avg       0.94      0.94      0.94      1311\n",
      "\n"
     ]
    }
   ],
   "source": [
    " #Evaluate the Trained Models\n",
    "\n",
    "#Retinal Disease Classification Results\n",
    "retinal_eval = retinal_model.evaluate(retinal_test_images, retinal_test_labels)\n",
    "print(f\"Retinal Model - Loss: {retinal_eval[0]}, Accuracy: {retinal_eval[1]}\")\n",
    "\n",
    "# Generate Classification Report\n",
    "retinal_preds = np.argmax(retinal_model.predict(retinal_test_images), axis=1)\n",
    "retinal_true = np.argmax(retinal_test_labels, axis=1)\n",
    "print(\"Retinal Disease Classification Report:\")\n",
    "print(classification_report(retinal_true, retinal_preds))\n",
    "\n",
    "#Brain Tumor Classification Results\n",
    "brain_eval = brain_model.evaluate(brain_test)\n",
    "print(f\"Brain Model - Loss: {brain_eval[0]}, Accuracy: {brain_eval[1]}\")\n",
    "\n",
    "# Generate Classification Report\n",
    "brain_preds = np.argmax(brain_model.predict(brain_test), axis=1)\n",
    "brain_true = brain_test.classes\n",
    "print(\"Brain Tumor Classification Report:\")\n",
    "print(classification_report(brain_true, brain_preds))\n"
   ]
  },
  {
   "cell_type": "code",
   "execution_count": 29,
   "id": "60813f96-af31-4cc5-88bb-70b272fa5a90",
   "metadata": {},
   "outputs": [
    {
     "data": {
      "image/png": "[encoded data removed]",
      "text/plain": [
       "<Figure size 640x480 with 1 Axes>"
      ]
     },
     "metadata": {},
     "output_type": "display_data"
    },
    {
     "data": {
      "image/png": "[encoded data removed]",
      "text/plain": [
       "<Figure size 640x480 with 1 Axes>"
      ]
     },
     "metadata": {},
     "output_type": "display_data"
    }
   ],
   "source": [
    "#Visualize Model Performance\n",
    "\n",
    "#Plot Training History\n",
    "\n",
    "import matplotlib.pyplot as plt\n",
    "\n",
    "def plot_training_history(history, title=\"Training History\"):\n",
    "    plt.plot(history.history['accuracy'], label='Train Accuracy')\n",
    "    if 'val_accuracy' in history.history:\n",
    "        plt.plot(history.history['val_accuracy'], label='Validation Accuracy')\n",
    "    plt.xlabel('Epochs')\n",
    "    plt.ylabel('Accuracy')\n",
    "    plt.title(title)\n",
    "    plt.legend()\n",
    "    plt.show()\n",
    "\n",
    "plot_training_history(retinal_history, \"Retinal Disease Model\")\n",
    "plot_training_history(brain_history, \"Brain Tumor Model\")"
   ]
  },
  {
   "cell_type": "code",
   "execution_count": 31,
   "id": "d0e6d17f-2a0d-4629-85f0-c33e62b7e3f8",
   "metadata": {},
   "outputs": [
    {
     "name": "stderr",
     "output_type": "stream",
     "text": [
      "WARNING:absl:You are saving your model as an HDF5 file via `model.save()` or `keras.saving.save_model(model)`. This file format is considered legacy. We recommend using instead the native Keras format, e.g. `model.save('my_model.keras')` or `keras.saving.save_model(model, 'my_model.keras')`. \n",
      "WARNING:absl:You are saving your model as an HDF5 file via `model.save()` or `keras.saving.save_model(model)`. This file format is considered legacy. We recommend using instead the native Keras format, e.g. `model.save('my_model.keras')` or `keras.saving.save_model(model, 'my_model.keras')`. \n"
     ]
    }
   ],
   "source": [
    "#Save Your Models for Presentation\n",
    "\n",
    "retinal_model.save(\"retinal_model.h5\")\n",
    "brain_model.save(\"brain_model.h5\")"
   ]
  },
  {
   "cell_type": "code",
   "execution_count": 33,
   "id": "9a3170c1-a949-4b87-9dd2-979226b533c5",
   "metadata": {},
   "outputs": [
    {
     "name": "stderr",
     "output_type": "stream",
     "text": [
      "WARNING:absl:Compiled the loaded model, but the compiled metrics have yet to be built. `model.compile_metrics` will be empty until you train or evaluate the model.\n",
      "WARNING:absl:Compiled the loaded model, but the compiled metrics have yet to be built. `model.compile_metrics` will be empty until you train or evaluate the model.\n"
     ]
    },
    {
     "name": "stdout",
     "output_type": "stream",
     "text": [
      "\u001b[1m1/1\u001b[0m \u001b[32m━━━━━━━━━━━━━━━━━━━━\u001b[0m\u001b[37m\u001b[0m \u001b[1m0s\u001b[0m 300ms/step\n",
      "\u001b[1m1/1\u001b[0m \u001b[32m━━━━━━━━━━━━━━━━━━━━\u001b[0m\u001b[37m\u001b[0m \u001b[1m0s\u001b[0m 298ms/step\n",
      "Predicted Retinal Disease Class: 1\n",
      "Predicted Brain Tumor Class: 2\n",
      "Estimated Cancer Risk: High Cancer Risk\n"
     ]
    }
   ],
   "source": [
    "import cv2\n",
    "import numpy as np\n",
    "from tensorflow.keras.models import load_model\n",
    "\n",
    "def preprocess_image(image_path, target_size=(224, 224)):\n",
    "    img = cv2.imread(image_path)\n",
    "    if img is None:\n",
    "        raise ValueError(f\"Error: Unable to load image at {image_path}. Check the file path.\")\n",
    "    \n",
    "    img = cv2.resize(img, target_size)\n",
    "    img = img / 255.0  # Normalize\n",
    "    img = np.expand_dims(img, axis=0)  # Add batch dimension\n",
    "    return img\n",
    "\n",
    "def predict_cancer_risk(retinal_model, brain_model, retinal_img, brain_img):\n",
    "    # Get predictions\n",
    "    retinal_pred = retinal_model.predict(retinal_img)\n",
    "    brain_pred = brain_model.predict(brain_img)\n",
    "\n",
    "    # Get predicted classes\n",
    "    retinal_class = np.argmax(retinal_pred)\n",
    "    brain_class = np.argmax(brain_pred)\n",
    "\n",
    "    # Define cancer risk based on conditions\n",
    "    if retinal_class in [1, 2, 3] and brain_class != 0:  # If disease in eye and brain tumor\n",
    "        risk = \"High Cancer Risk\"\n",
    "    elif retinal_class in [1, 2, 3] and brain_class == 0:\n",
    "        risk = \"Moderate Cancer Risk\"\n",
    "    elif retinal_class == 0 and brain_class != 0:\n",
    "        risk = \"Cancer Risk (Monitor Closely)\"\n",
    "    else:\n",
    "        risk = \"Low Cancer Risk\"\n",
    "\n",
    "    return risk, retinal_class, brain_class\n",
    "\n",
    "# Load trained models\n",
    "retinal_model = load_model(\"retinal_model.h5\")\n",
    "brain_model = load_model(\"brain_model.h5\")\n",
    "\n",
    "# Image paths\n",
    "retinal_image_path = \"/Users/blessygrace/Desktop/Capstone 2/seg_dataset/cataract/_0_4015166.jpg\"\n",
    "brain_image_path = \"/Users/blessygrace/Desktop/Capstone 2/brainmri/Testing/meningioma/Te-me_0010.jpg\"\n",
    "\n",
    "# Preprocess images before passing them\n",
    "retinal_img = preprocess_image(retinal_image_path)\n",
    "brain_img = preprocess_image(brain_image_path)\n",
    "\n",
    "# Get prediction\n",
    "risk, retinal_disease, brain_tumor = predict_cancer_risk(retinal_model, brain_model, retinal_img, brain_img)\n",
    "\n",
    "# Print results\n",
    "print(f\"Predicted Retinal Disease Class: {retinal_disease}\")\n",
    "print(f\"Predicted Brain Tumor Class: {brain_tumor}\")\n",
    "print(f\"Estimated Cancer Risk: {risk}\")\n"
   ]
  },
  {
   "cell_type": "code",
   "execution_count": null,
   "id": "e3bc96bd-e30c-42a9-a054-d842ec361931",
   "metadata": {},
   "outputs": [],
   "source": [
    "def build_retinal_model(input_shape=(224, 224, 3), num_classes=4):\n",
    "    base_model = MobileNetV2(input_shape=(224, 224, 3), include_top=False, weights='imagenet')\n",
    "    x = GlobalAveragePooling2D()(base_model.output)\n",
    "    x = Dense(512, activation='relu', kernel_regularizer=l2(0.01))(x)  # L2 Regularization\n",
    "    x = Dropout(0.4)(x)  # Increased Dropout\n",
    "    x = Dense(256, activation='relu', kernel_regularizer=l2(0.01))(x)\n",
    "    x = Dropout(0.3)(x)\n",
    "    outputs = Dense(num_classes, activation='softmax')(x)\n",
    "    model = Model(inputs=base_model.input, outputs=outputs)\n",
    "    for layer in base_model.layers[:-20]:  # Freeze all but last 20 layers\n",
    "        layer.trainable = False\n",
    "    model.compile(optimizer='adam', loss='categorical_crossentropy', metrics=['accuracy'])\n",
    "    return model\n",
    "\n",
    "retinal_model = build_retinal_model()"
   ]
  },
  {
   "cell_type": "code",
   "execution_count": null,
   "id": "37b0d88d-06a2-432f-8369-b12245969864",
   "metadata": {},
   "outputs": [],
   "source": [
    "from tensorflow.keras.models import Model\n",
    "from tensorflow.keras.layers import Dense, Dropout, GlobalAveragePooling2D, BatchNormalization\n",
    "from tensorflow.keras.applications import EfficientNetB3\n",
    "from tensorflow.keras.regularizers import l2\n",
    "from tensorflow.keras.optimizers import Adam\n",
    "import tensorflow as tf\n",
    "\n",
    "def build_retinal_model(input_shape=(224, 224, 3), num_classes=4):\n",
    "    # Use EfficientNetB3 for better feature extraction\n",
    "    base_model = EfficientNetB3(input_shape=input_shape, include_top=False, weights='imagenet')\n",
    "\n",
    "    # Unfreeze the last 50 layers instead of just 20 for better fine-tuning\n",
    "    for layer in base_model.layers[:-75]:  \n",
    "        layer.trainable = False\n",
    "\n",
    "    x = GlobalAveragePooling2D()(base_model.output)\n",
    "\n",
    "    # Fully connected layers with Batch Normalization and L2 Regularization\n",
    "    x = Dense(512, activation='relu', kernel_regularizer=l2(0.01))(x)\n",
    "    x = BatchNormalization()(x)  # Helps stabilize training\n",
    "    x = Dropout(0.3)(x)  # Increased dropout for regularization\n",
    "\n",
    "    x = Dense(256, activation='relu', kernel_regularizer=l2(0.01))(x)\n",
    "    x = BatchNormalization()(x)\n",
    "    x = Dropout(0.2)(x)\n",
    "\n",
    "    outputs = Dense(num_classes, activation='softmax')(x)\n",
    "\n",
    "    model = Model(inputs=base_model.input, outputs=outputs)\n",
    "\n",
    "    # Use Adam optimizer with a learning rate scheduler\n",
    "    initial_learning_rate = 1e-5\n",
    "    lr_schedule = tf.keras.optimizers.schedules.ExponentialDecay(\n",
    "        initial_learning_rate, decay_steps=1000, decay_rate=0.9, staircase=True\n",
    "    )\n",
    "    optimizer = tf.keras.optimizers.SGD(learning_rate=1e-3, momentum=0.9)\n",
    "\n",
    "    model.compile(optimizer=optimizer, loss='categorical_crossentropy', metrics=['accuracy'])\n",
    "\n",
    "    return model\n"
   ]
  }
 ],
 "metadata": {
  "kernelspec": {
   "display_name": "Python 3 (ipykernel)",
   "language": "python",
   "name": "python3"
  },
  "language_info": {
   "codemirror_mode": {
    "name": "ipython",
    "version": 3
   },
   "file_extension": ".py",
   "mimetype": "text/x-python",
   "name": "python",
   "nbconvert_exporter": "python",
   "pygments_lexer": "ipython3",
   "version": "3.12.4"
  }
 },
 "nbformat": 4,
 "nbformat_minor": 5
}
